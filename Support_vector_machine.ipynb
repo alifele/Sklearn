{
  "nbformat": 4,
  "nbformat_minor": 0,
  "metadata": {
    "colab": {
      "name": "Support_vector_machine.ipynb",
      "version": "0.3.2",
      "provenance": [],
      "include_colab_link": true
    },
    "kernelspec": {
      "name": "python3",
      "display_name": "Python 3"
    }
  },
  "cells": [
    {
      "cell_type": "markdown",
      "metadata": {
        "id": "view-in-github",
        "colab_type": "text"
      },
      "source": [
        "<a href=\"https://colab.research.google.com/github/alifele/Sklearn/blob/master/Support_vector_machine.ipynb\" target=\"_parent\"><img src=\"https://colab.research.google.com/assets/colab-badge.svg\" alt=\"Open In Colab\"/></a>"
      ]
    },
    {
      "cell_type": "code",
      "metadata": {
        "id": "j0VqEKaZckci",
        "colab_type": "code",
        "colab": {}
      },
      "source": [
        "import matplotlib.pyplot as plt\n",
        "import pandas as pd\n",
        "import numpy as np\n",
        "import requests , io\n",
        "import seaborn as sns; sns.set(font_scale = 1.2)"
      ],
      "execution_count": 0,
      "outputs": []
    },
    {
      "cell_type": "markdown",
      "metadata": {
        "id": "AimLo008eNkm",
        "colab_type": "text"
      },
      "source": [
        ""
      ]
    },
    {
      "cell_type": "markdown",
      "metadata": {
        "id": "Hrr0-Hz-eKzb",
        "colab_type": "text"
      },
      "source": [
        "#importin data\n"
      ]
    },
    {
      "cell_type": "code",
      "metadata": {
        "id": "4VeVaX2ReNVJ",
        "colab_type": "code",
        "outputId": "0189aeed-6775-49ac-fc73-50fae2783bcb",
        "colab": {
          "base_uri": "https://localhost:8080/",
          "height": 204
        }
      },
      "source": [
        "url = 'https://raw.githubusercontent.com/adashofdata/muffin-cupcake/master/recipes_muffins_cupcakes.csv'\n",
        "\n",
        "s = requests.get(url , stream = True).content\n",
        "df = pd.read_csv(io.BytesIO(s))\n",
        "df.head()"
      ],
      "execution_count": 0,
      "outputs": [
        {
          "output_type": "execute_result",
          "data": {
            "text/html": [
              "<div>\n",
              "<style scoped>\n",
              "    .dataframe tbody tr th:only-of-type {\n",
              "        vertical-align: middle;\n",
              "    }\n",
              "\n",
              "    .dataframe tbody tr th {\n",
              "        vertical-align: top;\n",
              "    }\n",
              "\n",
              "    .dataframe thead th {\n",
              "        text-align: right;\n",
              "    }\n",
              "</style>\n",
              "<table border=\"1\" class=\"dataframe\">\n",
              "  <thead>\n",
              "    <tr style=\"text-align: right;\">\n",
              "      <th></th>\n",
              "      <th>Type</th>\n",
              "      <th>Flour</th>\n",
              "      <th>Milk</th>\n",
              "      <th>Sugar</th>\n",
              "      <th>Butter</th>\n",
              "      <th>Egg</th>\n",
              "      <th>Baking Powder</th>\n",
              "      <th>Vanilla</th>\n",
              "      <th>Salt</th>\n",
              "    </tr>\n",
              "  </thead>\n",
              "  <tbody>\n",
              "    <tr>\n",
              "      <th>0</th>\n",
              "      <td>Muffin</td>\n",
              "      <td>55</td>\n",
              "      <td>28</td>\n",
              "      <td>3</td>\n",
              "      <td>7</td>\n",
              "      <td>5</td>\n",
              "      <td>2</td>\n",
              "      <td>0</td>\n",
              "      <td>0</td>\n",
              "    </tr>\n",
              "    <tr>\n",
              "      <th>1</th>\n",
              "      <td>Muffin</td>\n",
              "      <td>47</td>\n",
              "      <td>24</td>\n",
              "      <td>12</td>\n",
              "      <td>6</td>\n",
              "      <td>9</td>\n",
              "      <td>1</td>\n",
              "      <td>0</td>\n",
              "      <td>0</td>\n",
              "    </tr>\n",
              "    <tr>\n",
              "      <th>2</th>\n",
              "      <td>Muffin</td>\n",
              "      <td>47</td>\n",
              "      <td>23</td>\n",
              "      <td>18</td>\n",
              "      <td>6</td>\n",
              "      <td>4</td>\n",
              "      <td>1</td>\n",
              "      <td>0</td>\n",
              "      <td>0</td>\n",
              "    </tr>\n",
              "    <tr>\n",
              "      <th>3</th>\n",
              "      <td>Muffin</td>\n",
              "      <td>45</td>\n",
              "      <td>11</td>\n",
              "      <td>17</td>\n",
              "      <td>17</td>\n",
              "      <td>8</td>\n",
              "      <td>1</td>\n",
              "      <td>0</td>\n",
              "      <td>0</td>\n",
              "    </tr>\n",
              "    <tr>\n",
              "      <th>4</th>\n",
              "      <td>Muffin</td>\n",
              "      <td>50</td>\n",
              "      <td>25</td>\n",
              "      <td>12</td>\n",
              "      <td>6</td>\n",
              "      <td>5</td>\n",
              "      <td>2</td>\n",
              "      <td>1</td>\n",
              "      <td>0</td>\n",
              "    </tr>\n",
              "  </tbody>\n",
              "</table>\n",
              "</div>"
            ],
            "text/plain": [
              "     Type  Flour  Milk  Sugar  Butter  Egg  Baking Powder  Vanilla  Salt\n",
              "0  Muffin     55    28      3       7    5              2        0     0\n",
              "1  Muffin     47    24     12       6    9              1        0     0\n",
              "2  Muffin     47    23     18       6    4              1        0     0\n",
              "3  Muffin     45    11     17      17    8              1        0     0\n",
              "4  Muffin     50    25     12       6    5              2        1     0"
            ]
          },
          "metadata": {
            "tags": []
          },
          "execution_count": 77
        }
      ]
    },
    {
      "cell_type": "code",
      "metadata": {
        "id": "XlWrA8DUe4wP",
        "colab_type": "code",
        "outputId": "27a08c67-4cdc-49b3-b416-9ca4afacf9a6",
        "colab": {
          "base_uri": "https://localhost:8080/",
          "height": 377
        }
      },
      "source": [
        "sns.lmplot('Flour', 'Sugar', data=df, hue=\"Type\",fit_reg=False, palette='Set1',\n",
        "           scatter_kws={'s':120})"
      ],
      "execution_count": 0,
      "outputs": [
        {
          "output_type": "execute_result",
          "data": {
            "text/plain": [
              "<seaborn.axisgrid.FacetGrid at 0x7f87df7c27b8>"
            ]
          },
          "metadata": {
            "tags": []
          },
          "execution_count": 78
        },
        {
          "output_type": "display_data",
          "data": {
            "image/png": "[encoded data removed]",
            "text/plain": [
              "<Figure size 465.27x360 with 1 Axes>"
            ]
          },
          "metadata": {
            "tags": []
          }
        }
      ]
    },
    {
      "cell_type": "markdown",
      "metadata": {
        "id": "pJSIEZZ6qEVw",
        "colab_type": "text"
      },
      "source": [
        "#  Data preparation"
      ]
    },
    {
      "cell_type": "code",
      "metadata": {
        "id": "1xbE6Q32jF_W",
        "colab_type": "code",
        "outputId": "af9534fc-a5f6-44a3-91c1-5ab6bc1cd131",
        "colab": {
          "base_uri": "https://localhost:8080/",
          "height": 54
        }
      },
      "source": [
        "ingredients = df[['Flour', 'Sugar']].as_matrix\n",
        "Flour = np.array(df['Flour']).reshape(20,1)\n",
        "Sugar = np.array(df['Sugar']).reshape(20,1)\n",
        "\n",
        "ingredients = np.hstack((Flour,Sugar))\n",
        "type_label = np.where(df['Type']=='Muffin',0,1)\n",
        "recipe_features = list(df.columns[1:])\n",
        "recipe_features"
      ],
      "execution_count": 0,
      "outputs": [
        {
          "output_type": "execute_result",
          "data": {
            "text/plain": [
              "['Flour', 'Milk', 'Sugar', 'Butter', 'Egg', 'Baking Powder', 'Vanilla', 'Salt']"
            ]
          },
          "metadata": {
            "tags": []
          },
          "execution_count": 79
        }
      ]
    },
    {
      "cell_type": "markdown",
      "metadata": {
        "id": "7pANyf6blU7K",
        "colab_type": "text"
      },
      "source": [
        "#Fitting The model"
      ]
    },
    {
      "cell_type": "code",
      "metadata": {
        "id": "uwDUSCt6kXj5",
        "colab_type": "code",
        "outputId": "52c411fe-b722-4a84-86b6-4784d87369ee",
        "colab": {
          "base_uri": "https://localhost:8080/",
          "height": 85
        }
      },
      "source": [
        "from sklearn import svm\n",
        "model = svm.SVC(kernel='linear')\n",
        "model.fit(ingredients, type_label)"
      ],
      "execution_count": 0,
      "outputs": [
        {
          "output_type": "execute_result",
          "data": {
            "text/plain": [
              "SVC(C=1.0, cache_size=200, class_weight=None, coef0=0.0,\n",
              "  decision_function_shape='ovr', degree=3, gamma='auto_deprecated',\n",
              "  kernel='linear', max_iter=-1, probability=False, random_state=None,\n",
              "  shrinking=True, tol=0.001, verbose=False)"
            ]
          },
          "metadata": {
            "tags": []
          },
          "execution_count": 80
        }
      ]
    },
    {
      "cell_type": "code",
      "metadata": {
        "id": "X4q8tL66nfPG",
        "colab_type": "code",
        "outputId": "0f335692-a8fa-4f81-ae10-aebde102beda",
        "colab": {
          "base_uri": "https://localhost:8080/",
          "height": 34
        }
      },
      "source": [
        "w = model.coef_   # it will give us the slope (or the weight) of each feature\n",
        "b = model.intercept_  # it is the intercept of the fitting \n",
        "'''\n",
        "our model is w[0]*Flour + w[1]*Sugar + intercept = hypothesi\n",
        "in depend on the function SVC uses (i.e. sigmoid or arctan , ...) \n",
        "the out put will be sigmoid(hypothesis).\n",
        "NOTE that the hypothesis is the decision boundary\n",
        "'''\n",
        "w = w[0] # note that w is a matrix with dimansion (1 , n_features)\n",
        "print(b.shape)"
      ],
      "execution_count": 0,
      "outputs": [
        {
          "output_type": "stream",
          "text": [
            "(1,)\n"
          ],
          "name": "stdout"
        }
      ]
    },
    {
      "cell_type": "markdown",
      "metadata": {
        "id": "4PFrNkaHtlO9",
        "colab_type": "text"
      },
      "source": [
        "# Ploting the regression line"
      ]
    },
    {
      "cell_type": "code",
      "metadata": {
        "id": "kTQAy97LqfL4",
        "colab_type": "code",
        "outputId": "fa15717b-916d-4b3c-9d00-3b3975fae248",
        "colab": {
          "base_uri": "https://localhost:8080/",
          "height": 377
        }
      },
      "source": [
        "sns.lmplot('Flour', 'Sugar', data=df, hue=\"Type\",fit_reg=False, palette='Set1',\n",
        "           scatter_kws={'s':120})\n",
        "x = np.linspace(30,60)\n",
        "y = -w[0]/w[1] * x - b/w[1]\n",
        "\n",
        "plt.plot(x,y,linewidth=2,color='black')\n",
        "plt.axis([30,60,0,30])"
      ],
      "execution_count": 0,
      "outputs": [
        {
          "output_type": "execute_result",
          "data": {
            "text/plain": [
              "[30, 60, 0, 30]"
            ]
          },
          "metadata": {
            "tags": []
          },
          "execution_count": 113
        },
        {
          "output_type": "display_data",
          "data": {
            "image/png": "[encoded data removed]",
            "text/plain": [
              "<Figure size 465.27x360 with 1 Axes>"
            ]
          },
          "metadata": {
            "tags": []
          }
        }
      ]
    },
    {
      "cell_type": "markdown",
      "metadata": {
        "id": "PyRzkcmxzFzU",
        "colab_type": "text"
      },
      "source": [
        "#Plotting the hyperlines"
      ]
    },
    {
      "cell_type": "code",
      "metadata": {
        "id": "mtbAWWXvuWae",
        "colab_type": "code",
        "outputId": "672261cf-ce56-4724-d97e-05cdc8530bdf",
        "colab": {
          "base_uri": "https://localhost:8080/",
          "height": 428
        }
      },
      "source": [
        "a = model.support_vectors_\n",
        "print(a) #note that a is a 3*1 matrix.\n",
        "# The information of the upper support vector is in a[0]\n",
        "# And the information of the lower support vector is in a[-1]\n",
        "'''\n",
        "the relation of the decision boundary of support vectors is\n",
        "w[1]*Sugar + W[0]*Flour - (a[1]*w[1] + a[0]*w[0])\n",
        "'''\n",
        "sns.lmplot('Flour', 'Sugar', data=df, hue=\"Type\",fit_reg=False, palette='Set1',\n",
        "           scatter_kws={'s':120})\n",
        "x = np.linspace(30,60)\n",
        "y = -w[0]/w[1] * x - b/w[1]\n",
        "plt.plot(x,y,linewidth=2,color='black')\n",
        "\n",
        "upper_a = a[0]\n",
        "upper_support = -w[0]/w[1] *x +(upper_a[1]*w[1] + upper_a[0]*w[0])/w[1]\n",
        "plt.plot(x,upper_support,'k--')\n",
        "plt.axis([30,60,0,30])\n",
        "\n",
        "lower_a = a[-1]\n",
        "lower_support = -w[0]/w[1] *x +(lower_a[1]*w[1] + lower_a[0]*w[0])/w[1]\n",
        "plt.plot(x,lower_support,'k--')\n",
        "plt.axis([30,60,0,30])"
      ],
      "execution_count": 0,
      "outputs": [
        {
          "output_type": "stream",
          "text": [
            "[[45. 17.]\n",
            " [42. 16.]\n",
            " [42. 25.]]\n"
          ],
          "name": "stdout"
        },
        {
          "output_type": "execute_result",
          "data": {
            "text/plain": [
              "[30, 60, 0, 30]"
            ]
          },
          "metadata": {
            "tags": []
          },
          "execution_count": 126
        },
        {
          "output_type": "display_data",
          "data": {
            "image/png": "[encoded data removed]",
            "text/plain": [
              "<Figure size 465.27x360 with 1 Axes>"
            ]
          },
          "metadata": {
            "tags": []
          }
        }
      ]
    },
    {
      "cell_type": "markdown",
      "metadata": {
        "id": "T6iV_PCfF5ck",
        "colab_type": "text"
      },
      "source": [
        "#Predicting new cases\n",
        "\n"
      ]
    },
    {
      "cell_type": "code",
      "metadata": {
        "id": "QspZg4m6zVjh",
        "colab_type": "code",
        "colab": {}
      },
      "source": [
        "def muffin_or_cupcake(Flour,Sugar):\n",
        "  if(model.predict([[Flour,Sugar]]) ==0 ):\n",
        "    print('You\\'re looking at a muffin recipe!')\n",
        "  else:\n",
        "    print('You\\'re looking at a cupcake recipe!')"
      ],
      "execution_count": 0,
      "outputs": []
    },
    {
      "cell_type": "code",
      "metadata": {
        "id": "sy69DyNHGuFo",
        "colab_type": "code",
        "outputId": "98b8a32c-5127-4a49-8988-7cdcc7bcef53",
        "colab": {
          "base_uri": "https://localhost:8080/",
          "height": 34
        }
      },
      "source": [
        "muffin_or_cupcake(50,20)"
      ],
      "execution_count": 0,
      "outputs": [
        {
          "output_type": "stream",
          "text": [
            "You're looking at a muffin reeipe!\n"
          ],
          "name": "stdout"
        }
      ]
    },
    {
      "cell_type": "code",
      "metadata": {
        "id": "iq6VOImbG9-s",
        "colab_type": "code",
        "outputId": "bae62f3f-7070-4f32-c09d-4b3a9838da62",
        "colab": {
          "base_uri": "https://localhost:8080/",
          "height": 377
        }
      },
      "source": [
        "sns.lmplot('Flour', 'Sugar', data=df, hue=\"Type\",fit_reg=False, palette='Set1',\n",
        "           scatter_kws={'s':120})\n",
        "plt.plot(x,y,linewidth=2,color='black')\n",
        "plt.axis([30,60,0,30])\n",
        "plt.plot(50,20,'yo',markersize=12)"
      ],
      "execution_count": 0,
      "outputs": [
        {
          "output_type": "execute_result",
          "data": {
            "text/plain": [
              "[<matplotlib.lines.Line2D at 0x7f87def085c0>]"
            ]
          },
          "metadata": {
            "tags": []
          },
          "execution_count": 133
        },
        {
          "output_type": "display_data",
          "data": {
            "image/png": "[encoded data removed]",
            "text/plain": [
              "<Figure size 465.27x360 with 1 Axes>"
            ]
          },
          "metadata": {
            "tags": []
          }
        }
      ]
    },
    {
      "cell_type": "code",
      "metadata": {
        "id": "Scp2jLnIIin7",
        "colab_type": "code",
        "colab": {}
      },
      "source": [
        ""
      ],
      "execution_count": 0,
      "outputs": []
    }
  ]
}