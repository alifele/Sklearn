{
  "nbformat": 4,
  "nbformat_minor": 0,
  "metadata": {
    "colab": {
      "name": "Linear_regression.ipynb",
      "version": "0.3.2",
      "provenance": [],
      "include_colab_link": true
    },
    "kernelspec": {
      "name": "python3",
      "display_name": "Python 3"
    }
  },
  "cells": [
    {
      "cell_type": "markdown",
      "metadata": {
        "id": "view-in-github",
        "colab_type": "text"
      },
      "source": [
        "<a href=\"https://colab.research.google.com/github/alifele/Sklearn/blob/master/Linear_regression.ipynb\" target=\"_parent\"><img src=\"https://colab.research.google.com/assets/colab-badge.svg\" alt=\"Open In Colab\"/></a>"
      ]
    },
    {
      "cell_type": "markdown",
      "metadata": {
        "id": "5a2N7NyTOTCw",
        "colab_type": "text"
      },
      "source": [
        "in this notebook I am going to show how to use Linear Regression function in ```sklearn```"
      ]
    },
    {
      "cell_type": "code",
      "metadata": {
        "id": "2f171-zxON4K",
        "colab_type": "code",
        "colab": {}
      },
      "source": [
        "from sklearn.linear_model import LinearRegression\n",
        "import matplotlib.pyplot as plt\n",
        "import numpy as np"
      ],
      "execution_count": 0,
      "outputs": []
    },
    {
      "cell_type": "markdown",
      "metadata": {
        "id": "Hq1CCITJOvJx",
        "colab_type": "text"
      },
      "source": [
        "#LinearRegression"
      ]
    },
    {
      "cell_type": "markdown",
      "metadata": {
        "id": "iXNBfuwsO0Yb",
        "colab_type": "text"
      },
      "source": [
        "##Generating Data "
      ]
    },
    {
      "cell_type": "code",
      "metadata": {
        "id": "1DoqssO6OopU",
        "colab_type": "code",
        "colab": {
          "base_uri": "https://localhost:8080/",
          "height": 286
        },
        "outputId": "887ccbcd-c976-42db-ca63-8289c83ac292"
      },
      "source": [
        "x = 10 * np.random.random((100,1))\n",
        "y = 3 + 4 * x + np.random.randn(100,1)\n",
        "plt.scatter(x,y)"
      ],
      "execution_count": 7,
      "outputs": [
        {
          "output_type": "execute_result",
          "data": {
            "text/plain": [
              "<matplotlib.collections.PathCollection at 0x7faab090cdd8>"
            ]
          },
          "metadata": {
            "tags": []
          },
          "execution_count": 7
        },
        {
          "output_type": "display_data",
          "data": {
            "image/png": "[encoded data removed]",
            "text/plain": [
              "<Figure size 432x288 with 1 Axes>"
            ]
          },
          "metadata": {
            "tags": []
          }
        }
      ]
    },
    {
      "cell_type": "markdown",
      "metadata": {
        "id": "Al0un8_sPI5J",
        "colab_type": "text"
      },
      "source": [
        "##fiting the model\n",
        "\n",
        "this function uses the *normal equation* to find the best fit to data. You can do it manually (see MachineLearning repository on my github. You can find the notebook at Machine_learning/MachineLearningBook/Normal equation.ipynb )"
      ]
    },
    {
      "cell_type": "code",
      "metadata": {
        "id": "sgKqLkcxPF8P",
        "colab_type": "code",
        "colab": {
          "base_uri": "https://localhost:8080/",
          "height": 34
        },
        "outputId": "a1392176-11f5-4c15-9852-5f9fa6cbce4b"
      },
      "source": [
        "lin_reg = LinearRegression()\n",
        "lin_reg.fit(x, y)\n"
      ],
      "execution_count": 8,
      "outputs": [
        {
          "output_type": "execute_result",
          "data": {
            "text/plain": [
              "LinearRegression(copy_X=True, fit_intercept=True, n_jobs=None, normalize=False)"
            ]
          },
          "metadata": {
            "tags": []
          },
          "execution_count": 8
        }
      ]
    },
    {
      "cell_type": "code",
      "metadata": {
        "id": "Kzs6vilFQikS",
        "colab_type": "code",
        "colab": {
          "base_uri": "https://localhost:8080/",
          "height": 52
        },
        "outputId": "56691944-c177-452f-cd92-e7d83169e087"
      },
      "source": [
        "print('the coefficients are : {}'.format(lin_reg.coef_))\n",
        "print('the intercetps are : {}'.format(lin_reg.intercept_))"
      ],
      "execution_count": 9,
      "outputs": [
        {
          "output_type": "stream",
          "text": [
            "the coefficients are : [[4.01556823]]\n",
            "the intercetps are : [2.89102382]\n"
          ],
          "name": "stdout"
        }
      ]
    },
    {
      "cell_type": "code",
      "metadata": {
        "id": "edpQdrT_RBix",
        "colab_type": "code",
        "colab": {}
      },
      "source": [
        "y_pred = lin_reg.predict(x)\n",
        "y_pred.shape"
      ],
      "execution_count": 0,
      "outputs": []
    },
    {
      "cell_type": "code",
      "metadata": {
        "id": "-rt3_qrgRNOt",
        "colab_type": "code",
        "colab": {
          "base_uri": "https://localhost:8080/",
          "height": 286
        },
        "outputId": "ea514482-6d53-4207-8fa8-3d7541418184"
      },
      "source": [
        "plt.scatter(x,y,c='r')\n",
        "plt.plot(x,y_pred)"
      ],
      "execution_count": 15,
      "outputs": [
        {
          "output_type": "execute_result",
          "data": {
            "text/plain": [
              "[<matplotlib.lines.Line2D at 0x7faab0743908>]"
            ]
          },
          "metadata": {
            "tags": []
          },
          "execution_count": 15
        },
        {
          "output_type": "display_data",
          "data": {
            "image/png": "[encoded data removed]",
            "text/plain": [
              "<Figure size 432x288 with 1 Axes>"
            ]
          },
          "metadata": {
            "tags": []
          }
        }
      ]
    },
    {
      "cell_type": "markdown",
      "metadata": {
        "id": "PZ3IalrQRnDS",
        "colab_type": "text"
      },
      "source": [
        "##What is going on?!\n",
        "this function is based on ```scipy.linalg.lstsq()``` (the name stands for 'least squares')"
      ]
    },
    {
      "cell_type": "code",
      "metadata": {
        "id": "u6N2MR_dRX98",
        "colab_type": "code",
        "colab": {}
      },
      "source": [
        "from scipy.linalg import lstsq \n",
        "theta_best_svd, residuals, rank, s = lstsq()"
      ],
      "execution_count": 0,
      "outputs": []
    },
    {
      "cell_type": "markdown",
      "metadata": {
        "id": "QSQQDGo-SQqC",
        "colab_type": "text"
      },
      "source": [
        "for using this function directly you must add a bias column to the x"
      ]
    },
    {
      "cell_type": "code",
      "metadata": {
        "id": "jIjB07JPR-pP",
        "colab_type": "code",
        "colab": {}
      },
      "source": [
        "X = np.c_[x, np.ones((100,1))]\n",
        "theta_best_svd, residuals, rank, s = lstsq(X,y)"
      ],
      "execution_count": 0,
      "outputs": []
    },
    {
      "cell_type": "code",
      "metadata": {
        "id": "IvBddCtzSocf",
        "colab_type": "code",
        "colab": {
          "base_uri": "https://localhost:8080/",
          "height": 52
        },
        "outputId": "23eea708-248f-4030-e5c6-2db84e2167bd"
      },
      "source": [
        "print(theta_best_svd)"
      ],
      "execution_count": 20,
      "outputs": [
        {
          "output_type": "stream",
          "text": [
            "[[4.01556823]\n",
            " [2.89102382]]\n"
          ],
          "name": "stdout"
        }
      ]
    },
    {
      "cell_type": "code",
      "metadata": {
        "id": "ROb7uvehSxdo",
        "colab_type": "code",
        "colab": {}
      },
      "source": [
        ""
      ],
      "execution_count": 0,
      "outputs": []
    },
    {
      "cell_type": "markdown",
      "metadata": {
        "id": "-v6AVFJ2S9uq",
        "colab_type": "text"
      },
      "source": [
        "### How this is possible\n",
        "sklearn function computes $ \\theta=X^{+}*y $, where $ X^{+}$ is pesudoinverse of $X$ (especialy the Moore-penrose inverse).\n",
        "\n",
        "You can calculate this pesudoinverse directly with np.linalg.pinv"
      ]
    },
    {
      "cell_type": "code",
      "metadata": {
        "id": "zNDQiKRSTC_2",
        "colab_type": "code",
        "colab": {}
      },
      "source": [
        "from numpy.linalg import pinv"
      ],
      "execution_count": 0,
      "outputs": []
    },
    {
      "cell_type": "code",
      "metadata": {
        "id": "bofUeOghUeWV",
        "colab_type": "code",
        "colab": {
          "base_uri": "https://localhost:8080/",
          "height": 52
        },
        "outputId": "95756062-adb0-4aa9-f864-31a0051c13ec"
      },
      "source": [
        "pinv(X) @ y "
      ],
      "execution_count": 24,
      "outputs": [
        {
          "output_type": "execute_result",
          "data": {
            "text/plain": [
              "array([[4.01556823],\n",
              "       [2.89102382]])"
            ]
          },
          "metadata": {
            "tags": []
          },
          "execution_count": 24
        }
      ]
    },
    {
      "cell_type": "code",
      "metadata": {
        "id": "Y6NYQ8BsUoMl",
        "colab_type": "code",
        "colab": {
          "base_uri": "https://localhost:8080/",
          "height": 52
        },
        "outputId": "36300e5b-e793-471f-f587-cae5b63e9bc3"
      },
      "source": [
        "pinv(X).dot(y)"
      ],
      "execution_count": 25,
      "outputs": [
        {
          "output_type": "execute_result",
          "data": {
            "text/plain": [
              "array([[4.01556823],\n",
              "       [2.89102382]])"
            ]
          },
          "metadata": {
            "tags": []
          },
          "execution_count": 25
        }
      ]
    },
    {
      "cell_type": "code",
      "metadata": {
        "id": "f8kuaplQUtws",
        "colab_type": "code",
        "colab": {}
      },
      "source": [
        ""
      ],
      "execution_count": 0,
      "outputs": []
    }
  ]
}