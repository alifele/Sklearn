{
  "nbformat": 4,
  "nbformat_minor": 0,
  "metadata": {
    "colab": {
      "name": "StandardScaler.ipynb",
      "version": "0.3.2",
      "provenance": [],
      "include_colab_link": true
    },
    "kernelspec": {
      "name": "python3",
      "display_name": "Python 3"
    }
  },
  "cells": [
    {
      "cell_type": "markdown",
      "metadata": {
        "id": "view-in-github",
        "colab_type": "text"
      },
      "source": [
        "<a href=\"https://colab.research.google.com/github/alifele/Sklearn/blob/master/StandardScaler.ipynb\" target=\"_parent\"><img src=\"https://colab.research.google.com/assets/colab-badge.svg\" alt=\"Open In Colab\"/></a>"
      ]
    },
    {
      "cell_type": "markdown",
      "metadata": {
        "id": "UIuIJG1yN_eH",
        "colab_type": "text"
      },
      "source": [
        "#Important Imports"
      ]
    },
    {
      "cell_type": "code",
      "metadata": {
        "id": "ZRrEEYgYNibX",
        "colab_type": "code",
        "colab": {}
      },
      "source": [
        "import numpy as np\n",
        "import matplotlib.pyplot as plt\n",
        "from sklearn.preprocessing import StandardScaler\n"
      ],
      "execution_count": 0,
      "outputs": []
    },
    {
      "cell_type": "markdown",
      "metadata": {
        "id": "uvF_Hhn8PjUe",
        "colab_type": "text"
      },
      "source": [
        "#About StandardScaler"
      ]
    },
    {
      "cell_type": "markdown",
      "metadata": {
        "id": "pKc3VOqEPpnr",
        "colab_type": "text"
      },
      "source": [
        "The main idea is to normalize/standardize (mean = 0 and standard deviation = 1) your features before applying machine learning techniques.\n",
        "\n",
        "One important thing that you should keep in mind is that most (if not all) scikit-learn models/classes/functions, expect as input a matrix X with dimensions/shape [number_of_samples, number_of_features]. This is very important. Some other libraries expect as input the inverse.\n",
        "\n",
        "StandardScaler() will normalize the features (each column of X, INDIVIDUALLY) so that each column/feature/variable will have mean = 0 and standard deviation = 1.\n"
      ]
    },
    {
      "cell_type": "markdown",
      "metadata": {
        "id": "uQvkVCetONOh",
        "colab_type": "text"
      },
      "source": [
        "#Generating Data"
      ]
    },
    {
      "cell_type": "code",
      "metadata": {
        "id": "tQbFJnEkN9c5",
        "colab_type": "code",
        "outputId": "1ccbe3e6-336a-47fc-806d-60f8dbd7f776",
        "colab": {
          "base_uri": "https://localhost:8080/",
          "height": 461
        }
      },
      "source": [
        "data = np.arange(0,50,1).reshape((25,2))\n",
        "print(data)\n"
      ],
      "execution_count": 0,
      "outputs": [
        {
          "output_type": "stream",
          "text": [
            "[[ 0  1]\n",
            " [ 2  3]\n",
            " [ 4  5]\n",
            " [ 6  7]\n",
            " [ 8  9]\n",
            " [10 11]\n",
            " [12 13]\n",
            " [14 15]\n",
            " [16 17]\n",
            " [18 19]\n",
            " [20 21]\n",
            " [22 23]\n",
            " [24 25]\n",
            " [26 27]\n",
            " [28 29]\n",
            " [30 31]\n",
            " [32 33]\n",
            " [34 35]\n",
            " [36 37]\n",
            " [38 39]\n",
            " [40 41]\n",
            " [42 43]\n",
            " [44 45]\n",
            " [46 47]\n",
            " [48 49]]\n"
          ],
          "name": "stdout"
        }
      ]
    },
    {
      "cell_type": "code",
      "metadata": {
        "id": "R43nGvynOeJY",
        "colab_type": "code",
        "outputId": "8dfdbd46-55c9-4177-ef55-b3e588d4308a",
        "colab": {
          "base_uri": "https://localhost:8080/",
          "height": 461
        }
      },
      "source": [
        "scaler = StandardScaler()\n",
        "scaled_data = scaler.fit_transform(data)\n",
        "print(scaled_data)"
      ],
      "execution_count": 0,
      "outputs": [
        {
          "output_type": "stream",
          "text": [
            "[[-1.66410059 -1.66410059]\n",
            " [-1.52542554 -1.52542554]\n",
            " [-1.38675049 -1.38675049]\n",
            " [-1.24807544 -1.24807544]\n",
            " [-1.10940039 -1.10940039]\n",
            " [-0.97072534 -0.97072534]\n",
            " [-0.83205029 -0.83205029]\n",
            " [-0.69337525 -0.69337525]\n",
            " [-0.5547002  -0.5547002 ]\n",
            " [-0.41602515 -0.41602515]\n",
            " [-0.2773501  -0.2773501 ]\n",
            " [-0.13867505 -0.13867505]\n",
            " [ 0.          0.        ]\n",
            " [ 0.13867505  0.13867505]\n",
            " [ 0.2773501   0.2773501 ]\n",
            " [ 0.41602515  0.41602515]\n",
            " [ 0.5547002   0.5547002 ]\n",
            " [ 0.69337525  0.69337525]\n",
            " [ 0.83205029  0.83205029]\n",
            " [ 0.97072534  0.97072534]\n",
            " [ 1.10940039  1.10940039]\n",
            " [ 1.24807544  1.24807544]\n",
            " [ 1.38675049  1.38675049]\n",
            " [ 1.52542554  1.52542554]\n",
            " [ 1.66410059  1.66410059]]\n"
          ],
          "name": "stdout"
        }
      ]
    },
    {
      "cell_type": "code",
      "metadata": {
        "id": "fmgruhIxOtvp",
        "colab_type": "code",
        "outputId": "ed344993-d70e-416b-f734-35784bade014",
        "colab": {
          "base_uri": "https://localhost:8080/",
          "height": 52
        }
      },
      "source": [
        "print('the mean of columns is : {}'.format(scaled_data.mean(axis=0).round(4)))\n",
        "print('the standarnd derivation of columns is : {}'.format(scaled_data.std(axis=0)))"
      ],
      "execution_count": 0,
      "outputs": [
        {
          "output_type": "stream",
          "text": [
            "the mean of columns is : [-0. -0.]\n",
            "the standarnd derivation of columns is : [1. 1.]\n"
          ],
          "name": "stdout"
        }
      ]
    },
    {
      "cell_type": "markdown",
      "metadata": {
        "id": "WBobOA464kzI",
        "colab_type": "text"
      },
      "source": [
        "#Scaling Images\n",
        "\n",
        "some times we use images like the mnist handwriten images to neurish a neural network.\n",
        "in this case it is highly recommended to scale the images.\n",
        "\n",
        "But a very important thing to note is that StandardScaler scales the data set in a way each column of the data matrix has mean = 0 and std = 1.\n",
        "So if you scale the data matrix in the casual way you will mix the pictures to each other!"
      ]
    },
    {
      "cell_type": "code",
      "metadata": {
        "id": "OCS6npsi4kag",
        "colab_type": "code",
        "colab": {}
      },
      "source": [
        "import numpy as np\n",
        "import pandas as pd\n",
        "import matplotlib.pyplot as plt\n",
        "import requests, io\n",
        "\n",
        "from tensorflow import keras"
      ],
      "execution_count": 0,
      "outputs": []
    },
    {
      "cell_type": "code",
      "metadata": {
        "id": "9aQirIwk5bPV",
        "colab_type": "code",
        "colab": {}
      },
      "source": [
        "'''\n",
        "Let's import the Farsi digits (your assignment)\n",
        "'''\n",
        "\n",
        "url = 'https://raw.githubusercontent.com/sraeisi/MachineLearning_Physics/master/Assignments/A3/X.npz'\n",
        "s=requests.get(url, stream=True).content\n",
        "X = np.load(io.BytesIO(s) )['arr_0']\n",
        "url = 'https://raw.githubusercontent.com/sraeisi/MachineLearning_Physics/master/Assignments/A3/Y.npz'\n",
        "s=requests.get(url, stream=True).content\n",
        "Y = np.load(io.BytesIO(s) )['arr_0']\n",
        "\n",
        "from sklearn.utils import shuffle\n",
        "X, Y = shuffle(X,Y, random_state = 0 )\n",
        "\n",
        "from sklearn.model_selection import train_test_split\n",
        "X_train, X_test, y_train, y_test = train_test_split(X, Y, random_state=0)"
      ],
      "execution_count": 0,
      "outputs": []
    },
    {
      "cell_type": "code",
      "metadata": {
        "id": "DY8wdjFq5g-C",
        "colab_type": "code",
        "outputId": "1a8ebd12-53e5-4d83-c148-bc2afa269bdd",
        "colab": {
          "base_uri": "https://localhost:8080/",
          "height": 273
        }
      },
      "source": [
        "fig = plt.figure(figsize=(18,6))\n",
        "for i in range(18):\n",
        "  ax = fig.add_subplot(3,9,i+1, title=y_train[i])\n",
        "  ax.imshow(X_train[i])\n",
        "  ax.axis('off')"
      ],
      "execution_count": 0,
      "outputs": [
        {
          "output_type": "display_data",
          "data": {
            "image/png": "[encoded data removed]",
            "text/plain": [
              "<Figure size 1296x432 with 18 Axes>"
            ]
          },
          "metadata": {
            "tags": []
          }
        }
      ]
    },
    {
      "cell_type": "markdown",
      "metadata": {
        "id": "wCIhiTbp5sbX",
        "colab_type": "text"
      },
      "source": [
        "scaling in the usual way :"
      ]
    },
    {
      "cell_type": "code",
      "metadata": {
        "id": "ZQwygCey5o3i",
        "colab_type": "code",
        "colab": {}
      },
      "source": [
        "from sklearn.preprocessing import StandardScaler\n",
        "scaler = StandardScaler()\n",
        "\n",
        "X_train = X_train.reshape(-1,32*32)\n",
        "#X_train = X_train.T\n",
        "\n",
        "\n",
        "X_train = scaler.fit_transform(X_train)\n",
        "\n",
        "#X_train = X_train.T\n",
        "\n",
        "X_train = X_train.reshape(-1,32,32)\n"
      ],
      "execution_count": 0,
      "outputs": []
    },
    {
      "cell_type": "code",
      "metadata": {
        "id": "ra5zs0Se51s4",
        "colab_type": "code",
        "outputId": "532bbaa8-83be-4e07-bd54-410250d25125",
        "colab": {
          "base_uri": "https://localhost:8080/",
          "height": 273
        }
      },
      "source": [
        "fig = plt.figure(figsize=(18,6))\n",
        "for i in range(18):\n",
        "  ax = fig.add_subplot(3,9,i+1, title=y_train[i])\n",
        "  ax.imshow(X_train[i])\n",
        "  ax.axis('off')"
      ],
      "execution_count": 0,
      "outputs": [
        {
          "output_type": "display_data",
          "data": {
            "image/png": "[encoded data removed]",
            "text/plain": [
              "<Figure size 1296x432 with 18 Axes>"
            ]
          },
          "metadata": {
            "tags": []
          }
        }
      ]
    },
    {
      "cell_type": "code",
      "metadata": {
        "id": "urqTHhzj54Z5",
        "colab_type": "code",
        "colab": {}
      },
      "source": [
        "X_train, X_test, y_train, y_test = train_test_split(X, Y, random_state=0)"
      ],
      "execution_count": 0,
      "outputs": []
    },
    {
      "cell_type": "markdown",
      "metadata": {
        "id": "0ck1TTKO6BIX",
        "colab_type": "text"
      },
      "source": [
        "scaling with the tricky way"
      ]
    },
    {
      "cell_type": "code",
      "metadata": {
        "id": "QMb3o8M-5__O",
        "colab_type": "code",
        "colab": {}
      },
      "source": [
        "from sklearn.preprocessing import StandardScaler\n",
        "scaler = StandardScaler()\n",
        "\n",
        "X_train = X_train.reshape(-1,32*32)\n",
        "X_train = X_train.T\n",
        "\n",
        "\n",
        "X_train = scaler.fit_transform(X_train)\n",
        "\n",
        "X_train = X_train.T\n",
        "\n",
        "X_train = X_train.reshape(-1,32,32)\n"
      ],
      "execution_count": 0,
      "outputs": []
    },
    {
      "cell_type": "code",
      "metadata": {
        "id": "e2ZzkcBj6Ik6",
        "colab_type": "code",
        "outputId": "2ac049d4-9395-4db7-864d-b8a14eae9478",
        "colab": {
          "base_uri": "https://localhost:8080/",
          "height": 273
        }
      },
      "source": [
        "fig = plt.figure(figsize=(18,6))\n",
        "for i in range(18):\n",
        "  ax = fig.add_subplot(3,9,i+1, title=y_train[i])\n",
        "  ax.imshow(X_train[i])\n",
        "  ax.axis('off')"
      ],
      "execution_count": 0,
      "outputs": [
        {
          "output_type": "display_data",
          "data": {
            "image/png": "[encoded data removed]",
            "text/plain": [
              "<Figure size 1296x432 with 18 Axes>"
            ]
          },
          "metadata": {
            "tags": []
          }
        }
      ]
    },
    {
      "cell_type": "markdown",
      "metadata": {
        "id": "ODGQEZPv6PGC",
        "colab_type": "text"
      },
      "source": [
        "first by reshaping the data_images_matrix to (-1, height, width) we convert it to traditional data matrix with the (n_sample, n_feature) shape.\n",
        "\n",
        "the point is in the transposing the matrix.By this line we put the features of individual images under each other in different columns.\n",
        "If we sclae this data matrix we will be able to sclae each picture individualy.\n",
        "After scaling we must retranspose it to get the actual shape.\n",
        "The last step is to reshape the data matrix to data_images_matrix"
      ]
    },
    {
      "cell_type": "code",
      "metadata": {
        "id": "yx2buEey6LsR",
        "colab_type": "code",
        "colab": {}
      },
      "source": [
        ""
      ],
      "execution_count": 0,
      "outputs": []
    }
  ]
}