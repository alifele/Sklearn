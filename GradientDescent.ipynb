{
  "nbformat": 4,
  "nbformat_minor": 0,
  "metadata": {
    "colab": {
      "name": "GradientDescent.ipynb",
      "version": "0.3.2",
      "provenance": [],
      "include_colab_link": true
    },
    "kernelspec": {
      "name": "python3",
      "display_name": "Python 3"
    }
  },
  "cells": [
    {
      "cell_type": "markdown",
      "metadata": {
        "id": "view-in-github",
        "colab_type": "text"
      },
      "source": [
        "<a href=\"https://colab.research.google.com/github/alifele/Sklearn/blob/master/GradientDescent.ipynb\" target=\"_parent\"><img src=\"https://colab.research.google.com/assets/colab-badge.svg\" alt=\"Open In Colab\"/></a>"
      ]
    },
    {
      "cell_type": "code",
      "metadata": {
        "id": "2EMGZya0nljJ",
        "colab_type": "code",
        "colab": {}
      },
      "source": [
        "import numpy as np\n",
        "import matplotlib.pyplot as plt\n"
      ],
      "execution_count": 0,
      "outputs": []
    },
    {
      "cell_type": "code",
      "metadata": {
        "id": "wW_rvks5r8wM",
        "colab_type": "code",
        "colab": {}
      },
      "source": [
        "iterate = 10000\n",
        "etha = 0.01\n",
        "MSE =[]\n",
        "th0 = np.zeros((1000,1))\n",
        "th1 = np.array((1000,1))"
      ],
      "execution_count": 0,
      "outputs": []
    },
    {
      "cell_type": "code",
      "metadata": {
        "id": "sNeWGPcModu0",
        "colab_type": "code",
        "colab": {
          "base_uri": "https://localhost:8080/",
          "height": 268
        },
        "outputId": "7db2e603-45b8-4a88-aa0a-32a239024e96"
      },
      "source": [
        "x = 12 * np.random.random((100,1))\n",
        "X = np.c_[x, np.ones((100,1))]\n",
        "y = 3 + 4*x + np.random.randn(100,1)\n",
        "th = np.array([0,1]).reshape(-1,1)\n",
        "plt.scatter(x,y,c='red')\n",
        "plt.grid(True)"
      ],
      "execution_count": 29,
      "outputs": [
        {
          "output_type": "display_data",
          "data": {
            "image/png": "[encoded data removed]",
            "text/plain": [
              "<Figure size 432x288 with 1 Axes>"
            ]
          },
          "metadata": {
            "tags": []
          }
        }
      ]
    },
    {
      "cell_type": "code",
      "metadata": {
        "id": "5InF8lPkovN7",
        "colab_type": "code",
        "colab": {}
      },
      "source": [
        "def MSEf (X,th,y):\n",
        "  m = np.shape(X)[0]\n",
        "  return 1/m * np.sum(X@th - y)"
      ],
      "execution_count": 0,
      "outputs": []
    },
    {
      "cell_type": "code",
      "metadata": {
        "id": "MMgahnUOvNKO",
        "colab_type": "code",
        "colab": {
          "base_uri": "https://localhost:8080/",
          "height": 52
        },
        "outputId": "6c54ac21-e2f2-48e2-d38e-4a6153c8bcf6"
      },
      "source": [
        "m=np.shape(X)[0]\n",
        "m\n",
        "1/m * np.sum(X@th - y)\n",
        "dMSE(X,th,y)\n",
        "MSE.append(dMSE(X,th,y))\n",
        "MSE"
      ],
      "execution_count": 31,
      "outputs": [
        {
          "output_type": "execute_result",
          "data": {
            "text/plain": [
              "[array([[-381.50220721],\n",
              "        [ -50.42572049]])]"
            ]
          },
          "metadata": {
            "tags": []
          },
          "execution_count": 31
        }
      ]
    },
    {
      "cell_type": "code",
      "metadata": {
        "id": "U1V7nxZwqZ_E",
        "colab_type": "code",
        "colab": {}
      },
      "source": [
        "def dMSE (X, th, y):\n",
        "  m=np.shape(X)[0]\n",
        "  return 2/m * X.T @ (X@th-y)"
      ],
      "execution_count": 0,
      "outputs": []
    },
    {
      "cell_type": "code",
      "metadata": {
        "id": "hqbTR6MyrUx6",
        "colab_type": "code",
        "colab": {}
      },
      "source": [
        "for k in range(iterate):\n",
        "  th_tempo = th\n",
        "  th = th - etha*dMSE(X,th_tempo,y)"
      ],
      "execution_count": 0,
      "outputs": []
    },
    {
      "cell_type": "code",
      "metadata": {
        "id": "MJfpW3xNzEfG",
        "colab_type": "code",
        "colab": {
          "base_uri": "https://localhost:8080/",
          "height": 52
        },
        "outputId": "0e841b25-6614-4f1b-d05c-c7e52356a949"
      },
      "source": [
        "print(th)"
      ],
      "execution_count": 36,
      "outputs": [
        {
          "output_type": "stream",
          "text": [
            "[[3.98999011]\n",
            " [3.18915878]]\n"
          ],
          "name": "stdout"
        }
      ]
    },
    {
      "cell_type": "code",
      "metadata": {
        "id": "uTNdk60wzFim",
        "colab_type": "code",
        "colab": {}
      },
      "source": [
        ""
      ],
      "execution_count": 0,
      "outputs": []
    }
  ]
}