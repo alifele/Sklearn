{
  "nbformat": 4,
  "nbformat_minor": 0,
  "metadata": {
    "colab": {
      "name": "Mean_Squared_error.ipynb",
      "version": "0.3.2",
      "provenance": [],
      "include_colab_link": true
    },
    "kernelspec": {
      "name": "python3",
      "display_name": "Python 3"
    }
  },
  "cells": [
    {
      "cell_type": "markdown",
      "metadata": {
        "id": "view-in-github",
        "colab_type": "text"
      },
      "source": [
        "<a href=\"https://colab.research.google.com/github/alifele/Sklearn/blob/master/Mean_Squared_error.ipynb\" target=\"_parent\"><img src=\"https://colab.research.google.com/assets/colab-badge.svg\" alt=\"Open In Colab\"/></a>"
      ]
    },
    {
      "cell_type": "code",
      "metadata": {
        "id": "Ncn24l9eTKfp",
        "colab_type": "code",
        "colab": {}
      },
      "source": [
        "import numpy as np\n",
        "from sklearn.metrics import mean_squared_error"
      ],
      "execution_count": 0,
      "outputs": []
    },
    {
      "cell_type": "code",
      "metadata": {
        "id": "Hida_JbVTq5r",
        "colab_type": "code",
        "colab": {}
      },
      "source": [
        "def MSEf(x,y):\n",
        "  m = np.shape(x)[0]\n",
        "  return np.sum((x-y)**2)/m"
      ],
      "execution_count": 0,
      "outputs": []
    },
    {
      "cell_type": "code",
      "metadata": {
        "id": "GUOyevUZTQO3",
        "colab_type": "code",
        "colab": {
          "base_uri": "https://localhost:8080/",
          "height": 52
        },
        "outputId": "f70248b6-07cb-44db-fb9d-38b8c2c82131"
      },
      "source": [
        "x = np.array([1,2,3,4,5,6])\n",
        "xx = np.array([2,3,4,5,6,7])\n",
        "\n",
        "MSE = mean_squared_error(x,xx)\n",
        "print('mean_squared_error(x,xx) = {} \\nMSEf(x,xx) = {} '.format(MSE, MSEf(x,xx)))"
      ],
      "execution_count": 10,
      "outputs": [
        {
          "output_type": "stream",
          "text": [
            "mean_squared_error(x,xx) = 1.0 \n",
            "MSEf(x,xx) = 1.0 \n"
          ],
          "name": "stdout"
        }
      ]
    },
    {
      "cell_type": "code",
      "metadata": {
        "id": "5akOIvShToJb",
        "colab_type": "code",
        "colab": {}
      },
      "source": [
        ""
      ],
      "execution_count": 0,
      "outputs": []
    }
  ]
}